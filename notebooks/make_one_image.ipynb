{
 "cells": [
  {
   "cell_type": "markdown",
   "metadata": {},
   "source": [
    "The two following lines stand for automatic reload of Jupyter when modification are done on this page. "
   ]
  },
  {
   "cell_type": "code",
   "execution_count": null,
   "metadata": {},
   "outputs": [],
   "source": [
    "%reload_ext autoreload\n",
    "%autoreload 2"
   ]
  },
  {
   "cell_type": "markdown",
   "metadata": {},
   "source": [
    "The following lines stand for library tools. If a plot is does not displayed correctly then not add the line \"%matplotlib inline\". To display the help of very useful commends, type \"%magic\"."
   ]
  },
  {
   "cell_type": "code",
   "execution_count": null,
   "metadata": {},
   "outputs": [],
   "source": [
    "%matplotlib notebook\n",
    "\n",
    "import numpy as np\n",
    "import matplotlib.pyplot as plt\n",
    "import os\n",
    "import imp\n",
    "import shutil\n",
    "\n",
    "_, path, _ = imp.find_module('ImSimpy')"
   ]
  },
  {
   "cell_type": "markdown",
   "metadata": {},
   "source": [
    "# 1) Compute the SNR of a star with the Exposure Time Calculator (ETC)\n",
    "\n"
   ]
  },
  {
   "cell_type": "markdown",
   "metadata": {},
   "source": [
    "We want to calculate the Signal to Noise Ratio (SNR) for the following star:\n",
    "    \n",
    "    Magnitude: 16\n",
    "    Photometric system: AB\n",
    "\n",
    "The telescope is :\n",
    "\n",
    "    Site: San Perdo Martir\n",
    "    Telescope: COLIBRI\n",
    "    Optics: COLIBRI Near Infrared arm. filter J\n",
    "    Camera: CAGIRE \n",
    "    Exposure: 7s (=5*1.4s)"
   ]
  },
  {
   "cell_type": "markdown",
   "metadata": {},
   "source": [
    "Write the hjson configuration file [Make_one_image_etc.hjson](../ImSimpy/configFiles/Make_one_image_etc.hjson) in the folder ImSimpy/configFiles that contains all the input parameters of the computation of the SNR."
   ]
  },
  {
   "cell_type": "markdown",
   "metadata": {},
   "source": [
    "First import the package"
   ]
  },
  {
   "cell_type": "code",
   "execution_count": null,
   "metadata": {},
   "outputs": [],
   "source": [
    "from pyETC.pyETC import etc"
   ]
  },
  {
   "cell_type": "markdown",
   "metadata": {},
   "source": [
    "Load the hjson configuration file. If no configfile is given, it will load the default one \"default.hjson\". os.getenv get the environment variable define by the key ImSimpy_DIR to select the path according to the location of gft-sim."
   ]
  },
  {
   "cell_type": "code",
   "execution_count": null,
   "metadata": {},
   "outputs": [],
   "source": [
    "colibri_etc=etc(configFile='Make_one_image_etc.hjson',name_telescope='colibri')"
   ]
  },
  {
   "cell_type": "code",
   "execution_count": null,
   "metadata": {
    "scrolled": false
   },
   "outputs": [],
   "source": [
    "colibri_etc.sim()"
   ]
  },
  {
   "cell_type": "markdown",
   "metadata": {},
   "source": [
    "The following file [info.txt](../../gft_etc/gft_etc/results/info.txt) in the folder gft-sim/gft_etc/gft_etc/results \n",
    "contains very detailed results. "
   ]
  },
  {
   "cell_type": "markdown",
   "metadata": {},
   "source": [
    "To retreive only the integrated SNR calculated:"
   ]
  },
  {
   "cell_type": "code",
   "execution_count": null,
   "metadata": {},
   "outputs": [],
   "source": [
    "colibri_etc.information['SNR']"
   ]
  },
  {
   "cell_type": "markdown",
   "metadata": {},
   "source": [
    "To retreive all results calculated:"
   ]
  },
  {
   "cell_type": "code",
   "execution_count": null,
   "metadata": {},
   "outputs": [],
   "source": [
    "colibri_etc.information"
   ]
  },
  {
   "cell_type": "markdown",
   "metadata": {},
   "source": [
    "# 2) Simulate one image for COLIBRI"
   ]
  },
  {
   "cell_type": "markdown",
   "metadata": {},
   "source": [
    "## 2.1) Generate maps for instrumental effects (offset, gain map, hot pixels,...)"
   ]
  },
  {
   "cell_type": "code",
   "execution_count": null,
   "metadata": {},
   "outputs": [],
   "source": [
    "# Name of output_dir. Will be used for creating folder in catalog/, images/, etc...\n",
    "output_dir='Make_one_image'"
   ]
  },
  {
   "cell_type": "code",
   "execution_count": null,
   "metadata": {},
   "outputs": [],
   "source": [
    "from ImSimpy.utils.generateCalib import Offset, Vignetting, GainMap\n",
    "\n",
    "Offset(filename=path+'/data/Offset/%s/Offset_vis.fits' % output_dir,\n",
    "     xsize=4096, ysize=4096, floor=1000)\n",
    "Offset(filename=path+'/data/Offset/%s/Offset_nir.fits' % output_dir,\n",
    "     xsize=2048, ysize=2048, floor=500)\n",
    "\n",
    "Vignetting(filename=path+'/data/Vignetting/%s/Vignetting_vis.fits' % output_dir,\n",
    "     floor=1,xsize=4096, ysize=4096)\n",
    "Vignetting(filename=path+'/data/Vignetting/%s/Vignetting_nir.fits' % output_dir,\n",
    "     floor=1,xsize=2048, ysize=2048)\n",
    "\n",
    "GainMap(filename=path+'/data/GainMap/%s/Gain_vis.fits' % output_dir,\n",
    "        Type='constant',mean=1.5,xsize=4096,ysize=4096)\n",
    "GainMap(filename=path+'/data/GainMap/%s/Gain_nir.fits' % output_dir,\n",
    "        Type='random',mean=1.3, std=0.1,Nampl=32,xsize=2048,ysize=2048)\n"
   ]
  },
  {
   "cell_type": "code",
   "execution_count": null,
   "metadata": {},
   "outputs": [],
   "source": [
    "from ImSimpy.utils.generateCosmetics import HotPixs, DeadPixs\n",
    "\n",
    "HotPixs(filename=path+'/data/Cosmetics/%s/HotPixs_nir.fits' % output_dir,\n",
    "        xsize=2048,ysize=2048,Type='random',hotpixels=500,hotmin=5000,hotmax=40000)\n",
    "HotPixs(filename=path+'/data/Cosmetics/%s/HotPixs_vis.fits' % output_dir,\n",
    "        xsize=4096,ysize=4096,Type='random',hotpixels=500,hotmin=70000,hotmax=300000)\n",
    "\n",
    "DeadPixs(filename=path+'/data/Cosmetics/%s/DeadPixs_nir.fits' % output_dir,\n",
    "         xsize=2048,ysize=2048,Type='random',deadpixels=500)\n",
    "DeadPixs(filename=path+'/data/Cosmetics/%s/DeadPixs_vis.fits' % output_dir,\n",
    "         xsize=4096,ysize=4096,Type='random',deadpixels=2000)"
   ]
  },
  {
   "cell_type": "markdown",
   "metadata": {},
   "source": [
    "## 2.2) Generate raw image"
   ]
  },
  {
   "cell_type": "markdown",
   "metadata": {},
   "source": [
    "Write the hjson configuration file [Make_one_image_is.hjson](../../gft_is/gft_is/configFiles/Make_one_image_is.hjson) in the folder ImSimpy/configFiles that contains all the input parameters of the computation of the image."
   ]
  },
  {
   "cell_type": "markdown",
   "metadata": {},
   "source": [
    "First import the package"
   ]
  },
  {
   "cell_type": "code",
   "execution_count": null,
   "metadata": {},
   "outputs": [],
   "source": [
    "from ImSimpy.ImSimpy import ImageSimulator"
   ]
  },
  {
   "cell_type": "code",
   "execution_count": null,
   "metadata": {},
   "outputs": [],
   "source": [
    "colibri_IS=ImageSimulator(configFile='Make_one_image_is.hjson',\n",
    "                          name_telescope='colibri')"
   ]
  },
  {
   "cell_type": "code",
   "execution_count": null,
   "metadata": {
    "scrolled": false
   },
   "outputs": [],
   "source": [
    "colibri_IS.simulate()"
   ]
  },
  {
   "cell_type": "markdown",
   "metadata": {},
   "source": [
    "To retreive the image name simulated:"
   ]
  },
  {
   "cell_type": "code",
   "execution_count": null,
   "metadata": {},
   "outputs": [],
   "source": [
    "fits_filename=path+'/images/'+colibri_IS.information['output']\n",
    "print (fits_filename)"
   ]
  },
  {
   "cell_type": "markdown",
   "metadata": {},
   "source": [
    "To display the calculated image:"
   ]
  },
  {
   "cell_type": "code",
   "execution_count": null,
   "metadata": {},
   "outputs": [],
   "source": [
    "from astropy.io import fits\n",
    "import numpy as np"
   ]
  },
  {
   "cell_type": "code",
   "execution_count": null,
   "metadata": {},
   "outputs": [],
   "source": [
    "fits_file = fits.getdata(fits_filename)\n",
    "image_mean = np.mean(fits_file)\n",
    "image_std = np.std(fits_file)\n",
    "vmin = image_mean - 5*image_std\n",
    "vmax = image_mean + 10*image_std\n",
    "plt.figure(figsize=(7,7))\n",
    "plt.imshow(fits_file,interpolation='none',cmap='gray',vmin=vmin,vmax=vmax)"
   ]
  },
  {
   "cell_type": "markdown",
   "metadata": {},
   "source": [
    "Add wcs coordinates"
   ]
  },
  {
   "cell_type": "code",
   "execution_count": null,
   "metadata": {},
   "outputs": [],
   "source": [
    "from astropy.wcs import WCS"
   ]
  },
  {
   "cell_type": "code",
   "execution_count": null,
   "metadata": {},
   "outputs": [],
   "source": [
    "image,header = fits.getdata(fits_filename,header=True)\n",
    "\n",
    "wcs = WCS(header)\n",
    "plt.figure(figsize=(7,7))\n",
    "\n",
    "plt.subplot(projection=wcs)\n",
    "plt.imshow(image,interpolation='none',cmap='gray',vmin=vmin,vmax=vmax,origin='lower')\n",
    "plt.grid(color='white', ls='solid')\n",
    "plt.xlabel('Right Ascension (J2000)')\n",
    "plt.ylabel('Declination (J2000)')"
   ]
  },
  {
   "cell_type": "code",
   "execution_count": null,
   "metadata": {},
   "outputs": [],
   "source": []
  }
 ],
 "metadata": {
  "kernelspec": {
   "display_name": "Python 3",
   "language": "python",
   "name": "python3"
  },
  "language_info": {
   "codemirror_mode": {
    "name": "ipython",
    "version": 3
   },
   "file_extension": ".py",
   "mimetype": "text/x-python",
   "name": "python",
   "nbconvert_exporter": "python",
   "pygments_lexer": "ipython3",
   "version": "3.7.3"
  }
 },
 "nbformat": 4,
 "nbformat_minor": 1
}
